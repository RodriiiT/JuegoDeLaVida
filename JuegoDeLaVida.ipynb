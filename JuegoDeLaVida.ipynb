{
 "cells": [
  {
   "cell_type": "markdown",
   "metadata": {},
   "source": [
    "# <b>Juego de la vida</b>\n",
    "\n",
    "- Rodrigo Torres C.I: 31.014.592 \n",
    "\n",
    "#### <b>¿Qué es el juego de la vida?</b>\n",
    "El juego de la vida es un juego para 0 (cero) jugadores creado por el matemático británico <b>John Conway</b> el cual se juega en un tablero de casillas cuadradas, tantas como se quieran, las cuales son llamadas células y pueden estar vivas o muertas.\n",
    "\n",
    "Al principio en el tablero van haber algunas células vivas y otras muertas lo cual será la disposición del tablero y desde ese momento empezará a andar el tiempo. Como la mayoría de juegos este juego tiene un par de reglas, que indican que sucederá con cada célula al siguiente instante de tiempo. Las reglas son las siguientes:\n",
    "\n",
    "<ol>\n",
    "<li>Para que una <b>celula</b> siga <b>viva</b>, tiene que tener 2 ó 3 vecinas. Si tiene más, muere de <b>superblocación</b>. Si tiene menos, muere de <b>soledad</b></li> (Se puede poner imagen de referencia)\n",
    "<li>Si una célula está <b>muerta</b>y tiene 3 vecinas vivas. <b>Revive</b></li>(Se puede poner imagen de referencia)\n",
    "</ol>\n"
   ]
  }
 ],
 "metadata": {
  "kernelspec": {
   "display_name": "Python 3",
   "language": "python",
   "name": "python3"
  },
  "language_info": {
   "name": "python",
   "version": "3.12.1"
  }
 },
 "nbformat": 4,
 "nbformat_minor": 2
}
