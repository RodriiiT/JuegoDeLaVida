{
 "cells": [
  {
   "cell_type": "markdown",
   "metadata": {},
   "source": [
    "# <b>Juego de la Vida</b>\n",
    "\n",
    "- Rodrigo Torres C.I: 31.014.592 \n",
    "\n",
    "#### <b>¿Qué es el Juego de la Vida?</b>\n",
    "El <b>Juego de la Vida</b> es un juego para 0 (cero) jugadores creado por el matemático británico <b>John Conway</b> el cual se juega en un tablero de casillas cuadradas, tantas como se quieran, las cuales son llamadas células y pueden estar vivas o muertas.\n",
    "\n",
    "Al principio en el tablero, van haber algunas células vivas y otras muertas lo cual será la disposición del tablero y desde ese momento empezará a andar el tiempo. Como la mayoría de juegos este juego tiene un par de reglas, que indican que sucederá con cada célula al siguiente instante de tiempo. "
   ]
  },
  {
   "cell_type": "markdown",
   "metadata": {},
   "source": [
    "#### <b>Reglas</b>\n",
    "\n",
    "<ol>\n",
    "<li>Para que una <b>celula</b> siga <b>viva</b>, tiene que tener 2 ó 3 vecinas vivas. Si tiene más, muere de <b>sobrepoblación</b>. Si tiene menos, muere de <b>soledad</b></li> (Se puede poner imagen de referencia)\n",
    "<li>Si una célula está <b>muerta</b> y tiene 3 vecinas vivas. <b>Revive</b></li>(Se puede poner imagen de referencia)\n",
    "</ol>\n",
    "\n",
    "_Es importante recalcar que en cualquier otro caso distinto a los mencionados en las reglas, la célula muere._"
   ]
  },
  {
   "cell_type": "markdown",
   "metadata": {},
   "source": [
    "#### <b>Contexto Histórico del Juego de la Vida</b>\n",
    "\n",
    "El <b>Juego de la Vida</b> fue concebido en 1970 por el matemático británico <b>John Conway</b>. Esta creación surgió en un momento en que las ciencias computacionales y la teoría de sistemas complejos comenzaban a ganar terreno. Conway se interesó en los autómatas celulares, que son sistemas en los cuales el estado de cada celda en una cuadrícula evoluciona con el tiempo según un conjunto de reglas simples.\n",
    "\n",
    "Conway publicó su juego en el periódico *Scientific American*, donde lo presentó como un ejemplo de cómo se pueden generar patrones complejos a partir de reglas simples. Este enfoque no solo atrajo la atención de matemáticos y científicos, sino también del público en general, convirtiéndose en un fenómeno cultural. \n",
    "\n",
    "El Juego de la Vida no requiere jugadores en el sentido tradicional, lo que lo hace único. En cambio, actúa como un experimento sobre la vida, la muerte y el comportamiento emergente en sistemas complejos. Desde su creación, ha inspirado numerosos estudios en matemáticas, biología, teoría de juegos y arte, convirtiéndose en un pilar en el campo de la teoría de autómatas celulares.\n",
    "\n",
    "El impacto del Juego de la Vida se extiende más allá de la academia, influyendo en la cultura popular, como en películas, videojuegos y obras de arte. Su legado perdura, siendo un testimonio de cómo un simple juego puede ofrecer profundas reflexiones sobre la vida y los sistemas complejos que nos rodean."
   ]
  }
 ],
 "metadata": {
  "kernelspec": {
   "display_name": "Python 3",
   "language": "python",
   "name": "python3"
  },
  "language_info": {
   "name": "python",
   "version": "3.12.1"
  }
 },
 "nbformat": 4,
 "nbformat_minor": 2
}
